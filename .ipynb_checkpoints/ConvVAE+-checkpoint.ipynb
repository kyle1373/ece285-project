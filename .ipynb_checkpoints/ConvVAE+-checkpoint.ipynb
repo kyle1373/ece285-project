{
 "cells": [
  {
   "cell_type": "code",
   "execution_count": 69,
   "id": "5630c70f",
   "metadata": {},
   "outputs": [],
   "source": [
    "import numpy as np\n",
    "\n",
    "import torch\n",
    "from torch.utils.data import Dataset, DataLoader\n",
    "import torch.nn as nn\n",
    "import torch.optim as optim\n",
    "\n",
    "from preprocess import extract_images\n",
    "from dataset import get_full_list, ChineseCharacterDataset\n",
    "from model import VAE, vae_loss, ConvVAE\n",
    "from utils import visualize_images, show_images\n",
    "\n",
    "import matplotlib.pyplot as plt\n"
   ]
  },
  {
   "cell_type": "code",
   "execution_count": 6,
   "id": "f8f76688",
   "metadata": {},
   "outputs": [],
   "source": [
    "%load_ext autoreload\n",
    "%autoreload 2"
   ]
  },
  {
   "cell_type": "code",
   "execution_count": 93,
   "id": "7f1809fc",
   "metadata": {},
   "outputs": [],
   "source": [
    "import torch\n",
    "import torch.nn as nn\n",
    "import torch.nn.functional as F\n",
    "\n",
    "class ResidualBlock(nn.Module):\n",
    "    def __init__(self, in_features):\n",
    "        super(ResidualBlock, self).__init__()\n",
    "\n",
    "        conv_block = [nn.ReflectionPad2d(1),\n",
    "                      nn.Conv2d(in_features, in_features, 3),\n",
    "                      nn.InstanceNorm2d(in_features),\n",
    "                      nn.ReLU(inplace=True),\n",
    "                      nn.ReflectionPad2d(1),\n",
    "                      nn.Conv2d(in_features, in_features, 3),\n",
    "                      nn.InstanceNorm2d(in_features)]\n",
    "\n",
    "        self.conv_block = nn.Sequential(*conv_block)\n",
    "\n",
    "    def forward(self, x):\n",
    "        return x + self.conv_block(x)\n",
    "\n",
    "class Generator(nn.Module):\n",
    "    def __init__(self, input_nc, n_residual_blocks=6):\n",
    "        super(Generator, self).__init__()\n",
    "\n",
    "        # Initial convolution block\n",
    "        model = [nn.ReflectionPad2d(3),\n",
    "                 nn.Conv2d(input_nc, 64, 7),\n",
    "                 nn.InstanceNorm2d(64),\n",
    "                 nn.ReLU(inplace=True)]\n",
    "\n",
    "        # Downsampling\n",
    "        in_features = 64\n",
    "        out_features = in_features * 2\n",
    "        for _ in range(3):\n",
    "            model += [nn.Conv2d(in_features, out_features, 3, stride=2, padding=1),\n",
    "                      nn.InstanceNorm2d(out_features),\n",
    "                      nn.ReLU(inplace=True)]\n",
    "            in_features = out_features\n",
    "            out_features = in_features * 2\n",
    "\n",
    "        # Residual blocks\n",
    "        for _ in range(n_residual_blocks):\n",
    "            model += [ResidualBlock(in_features)]\n",
    "\n",
    "        self.model = nn.Sequential(*model)\n",
    "\n",
    "    def forward(self, x):\n",
    "        return self.model(x)\n",
    "\n",
    "class ConvVAE(nn.Module):\n",
    "    def __init__(self, z_dim, input_nc=1):\n",
    "        super().__init__()\n",
    "        self.z_dim = z_dim\n",
    "        self.encoder = Generator(input_nc)\n",
    "        self.fc1 = nn.Linear(512 * 8 * 8, z_dim)\n",
    "        self.fc2 = nn.Linear(512 * 8 * 8, z_dim)\n",
    "        self.fc3 = nn.Linear(z_dim, 512 * 8 * 8)\n",
    "        self.decoder = nn.Sequential(\n",
    "            nn.ConvTranspose2d(512, 128, 4, stride=2, padding=1),\n",
    "            nn.ReLU(),\n",
    "            nn.ConvTranspose2d(128, 32, 4, stride=2, padding=1),\n",
    "            nn.ReLU(),\n",
    "            nn.ConvTranspose2d(32, 1, 4, stride=2, padding=1),\n",
    "            nn.Sigmoid()\n",
    "        )\n",
    "\n",
    "    def encode(self, x):\n",
    "        h1 = self.encoder(x)\n",
    "        h1 = h1.view(h1.size(0), -1)\n",
    "        return self.fc1(h1), self.fc2(h1)\n",
    "\n",
    "    def reparameterize(self, mu, logvar):\n",
    "        std = torch.exp(0.5 * logvar)\n",
    "        eps = torch.randn_like(std)\n",
    "        return mu + eps * std\n",
    "\n",
    "    def decode(self, z):\n",
    "        h3 = F.relu(self.fc3(z))\n",
    "        h3 = h3.view(h3.size(0), 512, 8, 8)\n",
    "        return self.decoder(h3)\n",
    "\n",
    "    def forward(self, x):\n",
    "        mu, logvar = self.encode(x)\n",
    "        z = self.reparameterize(mu, logvar)\n",
    "        return self.decode(z), mu, logvar\n",
    "\n",
    "    def generate(self, num_images):\n",
    "        with torch.no_grad():\n",
    "            z = torch.randn(num_images, self.z_dim).to(next(self.parameters()).device)\n",
    "            generated_images = self.decode(z)\n",
    "        return generated_images"
   ]
  },
  {
   "cell_type": "markdown",
   "id": "35fb5d62",
   "metadata": {},
   "source": [
    "### Model:"
   ]
  },
  {
   "cell_type": "code",
   "execution_count": 85,
   "id": "12993d0d",
   "metadata": {},
   "outputs": [],
   "source": [
    "import torch\n",
    "import torch.nn as nn\n",
    "import torch.nn.functional as F\n",
    "\n",
    "class ResidualBlock(nn.Module):\n",
    "    def __init__(self, in_features):\n",
    "        super(ResidualBlock, self).__init__()\n",
    "\n",
    "        conv_block = [nn.ReflectionPad2d(1),\n",
    "                      nn.Conv2d(in_features, in_features, 3),\n",
    "                      nn.InstanceNorm2d(in_features),\n",
    "                      nn.ReLU(inplace=True),\n",
    "                      nn.ReflectionPad2d(1),\n",
    "                      nn.Conv2d(in_features, in_features, 3),\n",
    "                      nn.InstanceNorm2d(in_features)]\n",
    "\n",
    "        self.conv_block = nn.Sequential(*conv_block)\n",
    "\n",
    "    def forward(self, x):\n",
    "        return x + self.conv_block(x)\n",
    "\n",
    "class Generator(nn.Module):\n",
    "    def __init__(self, input_nc, output_nc, n_residual_blocks=6):\n",
    "        super(Generator, self).__init__()\n",
    "\n",
    "        # Initial convolution block\n",
    "        model = [nn.ReflectionPad2d(3),\n",
    "                 nn.Conv2d(input_nc, 64, 7),\n",
    "                 nn.InstanceNorm2d(64),\n",
    "                 nn.ReLU(inplace=True)]\n",
    "\n",
    "        # Downsampling\n",
    "        in_features = 64\n",
    "        out_features = in_features * 2\n",
    "        for _ in range(2):\n",
    "            model += [nn.Conv2d(in_features, out_features, 3, stride=2, padding=1),\n",
    "                      nn.InstanceNorm2d(out_features),\n",
    "                      nn.ReLU(inplace=True)]\n",
    "            in_features = out_features\n",
    "            out_features = in_features * 2\n",
    "\n",
    "        # Residual blocks\n",
    "        for _ in range(n_residual_blocks):\n",
    "            model += [ResidualBlock(in_features)]\n",
    "\n",
    "        self.model = nn.Sequential(*model)\n",
    "\n",
    "    def forward(self, x):\n",
    "        return self.model(x)\n",
    "\n",
    "class ConvVAE(nn.Module):\n",
    "    def __init__(self, z_dim, input_nc=1):\n",
    "        super().__init__()\n",
    "        self.z_dim = z_dim\n",
    "        self.encoder = Generator(input_nc, 256)\n",
    "        self.fc1 = nn.Linear(256 * 16 * 16, z_dim)\n",
    "        self.fc2 = nn.Linear(256 * 16 * 16, z_dim)\n",
    "        self.fc3 = nn.Linear(z_dim, 256 * 16 * 16)\n",
    "        self.decoder = nn.Sequential(\n",
    "            nn.ConvTranspose2d(256, 64, 4, stride=2, padding=1),\n",
    "            nn.ReLU(),\n",
    "            nn.ConvTranspose2d(64, 1, 4, stride=2, padding=1),\n",
    "            nn.Sigmoid()\n",
    "        )\n",
    "\n",
    "    def encode(self, x):\n",
    "        h1 = self.encoder(x)\n",
    "        h1 = h1.view(h1.size(0), -1)\n",
    "        return self.fc1(h1), self.fc2(h1)\n",
    "\n",
    "    def reparameterize(self, mu, logvar):\n",
    "        std = torch.exp(0.5 * logvar)\n",
    "        eps = torch.randn_like(std)\n",
    "        return mu + eps * std\n",
    "\n",
    "    def decode(self, z):\n",
    "        h3 = F.relu(self.fc3(z))\n",
    "        h3 = h3.view(h3.size(0), 256, 16, 16)\n",
    "        return self.decoder(h3)\n",
    "\n",
    "    def forward(self, x):\n",
    "        mu, logvar = self.encode(x)\n",
    "        z = self.reparameterize(mu, logvar)\n",
    "        return self.decode(z), mu, logvar\n",
    "\n",
    "    def generate(self, num_images):\n",
    "        with torch.no_grad():\n",
    "            z = torch.randn(num_images, self.z_dim).to(next(self.parameters()).device)\n",
    "            generated_images = self.decode(z)\n",
    "        return generated_images\n"
   ]
  },
  {
   "cell_type": "markdown",
   "id": "b0b82c0d",
   "metadata": {},
   "source": [
    "### Loading and Preprocessing:"
   ]
  },
  {
   "cell_type": "code",
   "execution_count": 95,
   "id": "93b1ee3b",
   "metadata": {},
   "outputs": [
    {
     "name": "stdout",
     "output_type": "stream",
     "text": [
      "Training Set Size: 243572\n"
     ]
    }
   ],
   "source": [
    "# Set the directory and load the dataset\n",
    "image_dir = './dataset'\n",
    "full_data_list = get_full_list(image_dir)\n",
    "\n",
    "train_size = int(len(full_data_list))\n",
    "train_data_set = ChineseCharacterDataset(full_data_list[:train_size])\n",
    "\n",
    "print(\"Training Set Size:\", len(train_data_set))\n",
    "\n",
    "# Create data loaders\n",
    "train_loader = DataLoader(train_data_set, batch_size=32, shuffle=True)"
   ]
  },
  {
   "cell_type": "markdown",
   "id": "73a40d89",
   "metadata": {},
   "source": [
    "### Training:"
   ]
  },
  {
   "cell_type": "code",
   "execution_count": 96,
   "id": "1a8bb9ee",
   "metadata": {},
   "outputs": [
    {
     "name": "stdout",
     "output_type": "stream",
     "text": [
      "Using device: cuda\n"
     ]
    }
   ],
   "source": [
    "# Use GPU if available\n",
    "device = torch.device('cuda' if torch.cuda.is_available() else 'cpu')\n",
    "print(f'Using device: {device}')"
   ]
  },
  {
   "cell_type": "code",
   "execution_count": 97,
   "id": "c2fbecde",
   "metadata": {},
   "outputs": [],
   "source": [
    "# Train\n",
    "def train(model, train_data_set, input_dim, optimizer, scheduler, num_epochs):\n",
    "    for epoch in range(num_epochs):\n",
    "        model.train()\n",
    "        train_loss = 0\n",
    "        for batch_idx, data in enumerate(train_data_set):\n",
    "            data = data.to(device)\n",
    "            optimizer.zero_grad()\n",
    "            reconstructed_batch, mu, logvar = model(data)\n",
    "            loss = vae_loss(reconstructed_batch, data, mu, logvar)\n",
    "            loss.backward()\n",
    "            train_loss += loss.item()\n",
    "            optimizer.step()\n",
    "        scheduler.step()\n",
    "        print(f'Epoch {epoch+1}, Loss: {train_loss/len(train_data_set.dataset)}')\n",
    "    print(f'Final Loss: {train_loss/len(train_data_set.dataset)}')"
   ]
  },
  {
   "cell_type": "code",
   "execution_count": null,
   "id": "4c18358f",
   "metadata": {},
   "outputs": [
    {
     "name": "stdout",
     "output_type": "stream",
     "text": [
      "Epoch 1, Loss: 1350.0185471499444\n",
      "Epoch 2, Loss: 1279.4831623275793\n",
      "Epoch 3, Loss: 1264.4504568817176\n",
      "Epoch 4, Loss: 1255.4285888210802\n",
      "Epoch 5, Loss: 1249.357482199501\n",
      "Epoch 6, Loss: 1244.4114938133027\n",
      "Epoch 7, Loss: 1240.5110338748655\n",
      "Epoch 8, Loss: 1237.2224203806395\n",
      "Epoch 9, Loss: 1234.3698286434555\n",
      "Epoch 10, Loss: 1231.9673474934389\n",
      "Epoch 13, Loss: 1218.7360190290883\n",
      "Epoch 14, Loss: 1217.6263923709546\n",
      "Epoch 15, Loss: 1216.5557274180608\n",
      "Epoch 16, Loss: 1215.5249188542043\n",
      "Epoch 17, Loss: 1214.563084561495\n",
      "Epoch 21, Loss: 1206.6872035254848\n",
      "Epoch 22, Loss: 1205.9276276303824\n",
      "Epoch 23, Loss: 1205.4234198140077\n",
      "Epoch 24, Loss: 1204.8737808885821\n",
      "Epoch 25, Loss: 1204.4241084659386\n",
      "Epoch 27, Loss: 1203.5059858936731\n",
      "Epoch 28, Loss: 1203.1105930689898\n",
      "Epoch 30, Loss: 1202.3253936624747\n",
      "Epoch 31, Loss: 1199.2719571561488\n",
      "Epoch 32, Loss: 1198.850660358834\n",
      "Epoch 34, Loss: 1198.3274411512562\n",
      "Epoch 35, Loss: 1198.0955646103873\n",
      "Epoch 36, Loss: 1197.8985262025963\n",
      "Epoch 37, Loss: 1197.6273471707673\n",
      "Epoch 38, Loss: 1197.3983489738148\n",
      "Epoch 39, Loss: 1197.1588204588247\n"
     ]
    }
   ],
   "source": [
    "input_dim = 64 * 64\n",
    "z_dim = 50\n",
    "learning_rate = 1e-4\n",
    "\n",
    "num_epochs = 100\n",
    "\n",
    "model = ConvVAE(z_dim).to(device)\n",
    "optimizer = optim.Adam(model.parameters(), lr=learning_rate)\n",
    "scheduler = optim.lr_scheduler.StepLR(optimizer, step_size=10, gamma=0.5)\n",
    "\n",
    "train(model, train_loader, input_dim, optimizer, scheduler, num_epochs) "
   ]
  },
  {
   "cell_type": "markdown",
   "id": "e9549a6b",
   "metadata": {},
   "source": [
    "### Generating Images:"
   ]
  },
  {
   "cell_type": "code",
   "execution_count": 99,
   "id": "ed1b6ac7",
   "metadata": {
    "scrolled": false
   },
   "outputs": [
    {
     "data": {
      "image/png": "[encoded data removed]",
      "text/plain": [
       "<Figure size 1080x180 with 16 Axes>"
      ]
     },
     "metadata": {
      "needs_background": "light"
     },
     "output_type": "display_data"
    }
   ],
   "source": [
    "# Evaluate\n",
    "model.eval()\n",
    "\n",
    "# Sample and generate\n",
    "with torch.no_grad():\n",
    "    z = torch.randn(64, z_dim).to(device)\n",
    "    sample = model.decode(z).cpu()\n",
    "    sample = sample.view(64, 1, 64, 64)\n",
    "\n",
    "show_images(sample.numpy())"
   ]
  },
  {
   "cell_type": "code",
   "execution_count": null,
   "id": "655b8cc7",
   "metadata": {},
   "outputs": [],
   "source": []
  }
 ],
 "metadata": {
  "kernelspec": {
   "display_name": "Python 3 (ipykernel)",
   "language": "python",
   "name": "python3"
  },
  "language_info": {
   "codemirror_mode": {
    "name": "ipython",
    "version": 3
   },
   "file_extension": ".py",
   "mimetype": "text/x-python",
   "name": "python",
   "nbconvert_exporter": "python",
   "pygments_lexer": "ipython3",
   "version": "3.9.5"
  }
 },
 "nbformat": 4,
 "nbformat_minor": 5
}
