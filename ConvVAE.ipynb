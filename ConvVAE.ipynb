{
 "cells": [
  {
   "cell_type": "code",
   "execution_count": 18,
   "id": "5630c70f",
   "metadata": {},
   "outputs": [],
   "source": [
    "import numpy as np\n",
    "\n",
    "import torch\n",
    "from torch.utils.data import Dataset, DataLoader\n",
    "import torch.nn as nn\n",
    "import torch.optim as optim\n",
    "\n",
    "from preprocess import extract_images\n",
    "from dataset import get_full_list, ChineseCharacterDataset\n",
    "from model import VAE, vae_loss, ConvVAE\n",
    "from utils import visualize_images, show_images"
   ]
  },
  {
   "cell_type": "code",
   "execution_count": 19,
   "id": "f8f76688",
   "metadata": {},
   "outputs": [
    {
     "name": "stdout",
     "output_type": "stream",
     "text": [
      "The autoreload extension is already loaded. To reload it, use:\n",
      "  %reload_ext autoreload\n"
     ]
    }
   ],
   "source": [
    "%load_ext autoreload\n",
    "%autoreload 2"
   ]
  },
  {
   "cell_type": "markdown",
   "id": "b0b82c0d",
   "metadata": {},
   "source": [
    "### Loading and Preprocessing:"
   ]
  },
  {
   "cell_type": "code",
   "execution_count": 20,
   "id": "93b1ee3b",
   "metadata": {},
   "outputs": [
    {
     "name": "stdout",
     "output_type": "stream",
     "text": [
      "Training Set Size: 24357\n"
     ]
    }
   ],
   "source": [
    "# Set the directory and load the dataset\n",
    "image_dir = './dataset'\n",
    "full_data_list = get_full_list(image_dir)\n",
    "\n",
    "train_size = int(0.1 * len(full_data_list))\n",
    "train_data_set = ChineseCharacterDataset(full_data_list[:train_size])\n",
    "\n",
    "print(\"Training Set Size:\", len(train_data_set))\n",
    "\n",
    "# Create data loaders\n",
    "train_loader = DataLoader(train_data_set, batch_size=32, shuffle=True)"
   ]
  },
  {
   "cell_type": "markdown",
   "id": "73a40d89",
   "metadata": {},
   "source": [
    "### Training:"
   ]
  },
  {
   "cell_type": "code",
   "execution_count": 21,
   "id": "1a8bb9ee",
   "metadata": {},
   "outputs": [
    {
     "name": "stdout",
     "output_type": "stream",
     "text": [
      "Using device: cuda\n"
     ]
    }
   ],
   "source": [
    "# Use GPU if available\n",
    "device = torch.device('cuda' if torch.cuda.is_available() else 'cpu')\n",
    "print(f'Using device: {device}')"
   ]
  },
  {
   "cell_type": "code",
   "execution_count": 22,
   "id": "c2fbecde",
   "metadata": {},
   "outputs": [],
   "source": [
    "# Train\n",
    "def train(model, train_data_set, input_dim, optimizer, scheduler, num_epochs):\n",
    "    for epoch in range(num_epochs):\n",
    "        model.train()\n",
    "        train_loss = 0\n",
    "        for batch_idx, data in enumerate(train_data_set):\n",
    "            data = data.to(device)\n",
    "            optimizer.zero_grad()\n",
    "            reconstructed_batch, mu, logvar = model(data)\n",
    "            loss = vae_loss(reconstructed_batch, data, mu, logvar)\n",
    "            loss.backward()\n",
    "            train_loss += loss.item()\n",
    "            optimizer.step()\n",
    "        scheduler.step()\n",
    "        print(f'Epoch {epoch+1}, Loss: {train_loss/len(train_data_set.dataset)}')\n",
    "    print(f'Final Loss: {train_loss/len(train_data_set.dataset)}')"
   ]
  },
  {
   "cell_type": "code",
   "execution_count": 23,
   "id": "4c18358f",
   "metadata": {},
   "outputs": [
    {
     "name": "stdout",
     "output_type": "stream",
     "text": [
      "Epoch 1, Loss: 1634.9111224883695\n",
      "Epoch 2, Loss: 1309.9753806977974\n",
      "Epoch 3, Loss: 1217.6924592712055\n",
      "Epoch 4, Loss: 1191.7174577797193\n",
      "Epoch 5, Loss: 1178.409080215005\n",
      "Epoch 6, Loss: 1168.8459009273195\n",
      "Epoch 7, Loss: 1161.50725365382\n",
      "Epoch 8, Loss: 1155.3986755964982\n",
      "Epoch 9, Loss: 1150.1444311961461\n",
      "Epoch 10, Loss: 1145.6647886772796\n",
      "Epoch 11, Loss: 1140.533854266901\n",
      "Epoch 12, Loss: 1138.575695361254\n",
      "Epoch 13, Loss: 1136.5679280067716\n",
      "Epoch 14, Loss: 1134.6464126473525\n",
      "Epoch 15, Loss: 1133.03637395612\n",
      "Epoch 16, Loss: 1131.4700411577974\n",
      "Epoch 17, Loss: 1129.8759037723692\n",
      "Epoch 18, Loss: 1128.578603438244\n",
      "Epoch 19, Loss: 1127.036968686171\n",
      "Epoch 20, Loss: 1125.811712699859\n",
      "Epoch 21, Loss: 1123.6673387174376\n",
      "Epoch 22, Loss: 1122.9197171565156\n",
      "Epoch 23, Loss: 1122.388967145129\n",
      "Epoch 24, Loss: 1121.615116780148\n",
      "Epoch 25, Loss: 1121.0507278852717\n",
      "Epoch 26, Loss: 1120.4455126277546\n",
      "Epoch 27, Loss: 1120.0085009691452\n",
      "Epoch 28, Loss: 1119.2951390225346\n",
      "Epoch 29, Loss: 1118.7872917813347\n",
      "Epoch 30, Loss: 1118.2585652594096\n",
      "Epoch 31, Loss: 1117.1225011194165\n",
      "Epoch 32, Loss: 1116.9843768844044\n",
      "Epoch 33, Loss: 1116.5871871407603\n",
      "Epoch 34, Loss: 1116.3964268605728\n",
      "Epoch 35, Loss: 1116.0079209334392\n",
      "Epoch 36, Loss: 1115.8134737358935\n",
      "Epoch 37, Loss: 1115.5757313052652\n",
      "Epoch 38, Loss: 1115.238890874864\n",
      "Epoch 39, Loss: 1114.9479426473908\n",
      "Epoch 40, Loss: 1114.804350592553\n",
      "Epoch 41, Loss: 1114.2880656901764\n",
      "Epoch 42, Loss: 1114.1059887654217\n",
      "Epoch 43, Loss: 1113.9756549387753\n",
      "Epoch 44, Loss: 1113.8393896085443\n",
      "Epoch 45, Loss: 1113.6132634483927\n",
      "Epoch 46, Loss: 1113.5168185496598\n",
      "Epoch 47, Loss: 1113.3997049423676\n",
      "Epoch 48, Loss: 1113.2438136206995\n",
      "Epoch 49, Loss: 1113.2083738480276\n",
      "Epoch 50, Loss: 1113.0208573895595\n",
      "Epoch 51, Loss: 1112.7543019147793\n",
      "Epoch 52, Loss: 1112.778493657656\n",
      "Epoch 53, Loss: 1112.674812986898\n",
      "Epoch 54, Loss: 1112.7903250108413\n",
      "Epoch 55, Loss: 1112.5000692217907\n",
      "Epoch 56, Loss: 1112.5658037818632\n",
      "Epoch 57, Loss: 1112.4294096305412\n",
      "Epoch 58, Loss: 1112.4919050598583\n",
      "Epoch 59, Loss: 1112.3141796257557\n",
      "Epoch 60, Loss: 1112.23108503042\n",
      "Epoch 61, Loss: 1112.1098550419927\n",
      "Epoch 62, Loss: 1112.0290145551394\n",
      "Epoch 63, Loss: 1112.0575650857236\n",
      "Epoch 64, Loss: 1111.9317932818017\n",
      "Epoch 65, Loss: 1111.9943293861877\n",
      "Epoch 66, Loss: 1111.9620888510296\n",
      "Epoch 67, Loss: 1112.0545183847303\n",
      "Epoch 68, Loss: 1111.814007603692\n",
      "Epoch 69, Loss: 1111.8352064513347\n",
      "Epoch 70, Loss: 1111.8898508305492\n",
      "Epoch 71, Loss: 1111.822758617261\n",
      "Epoch 72, Loss: 1111.668361267423\n",
      "Epoch 73, Loss: 1111.59706158009\n",
      "Epoch 74, Loss: 1111.6874606279766\n",
      "Epoch 75, Loss: 1111.816625562595\n",
      "Epoch 76, Loss: 1111.6732418547222\n",
      "Epoch 77, Loss: 1111.7711869999512\n",
      "Epoch 78, Loss: 1111.6026099882733\n",
      "Epoch 79, Loss: 1111.6475753248553\n",
      "Epoch 80, Loss: 1111.6554632411242\n",
      "Epoch 81, Loss: 1111.6046309919248\n",
      "Epoch 82, Loss: 1111.578754952375\n",
      "Epoch 83, Loss: 1111.5917218195746\n",
      "Epoch 84, Loss: 1111.5436790100766\n",
      "Epoch 85, Loss: 1111.5813540471875\n",
      "Epoch 86, Loss: 1111.5617131809836\n",
      "Epoch 87, Loss: 1111.5316885450025\n",
      "Epoch 88, Loss: 1111.548098820411\n",
      "Epoch 89, Loss: 1111.5173567074853\n",
      "Epoch 90, Loss: 1111.4955686025835\n",
      "Epoch 91, Loss: 1111.536351162846\n",
      "Epoch 92, Loss: 1111.4446049662956\n",
      "Epoch 93, Loss: 1111.5454027589606\n",
      "Epoch 94, Loss: 1111.5564514227815\n",
      "Epoch 95, Loss: 1111.4086932505606\n",
      "Epoch 96, Loss: 1111.5054221731368\n",
      "Epoch 97, Loss: 1111.358231848134\n",
      "Epoch 98, Loss: 1111.5073499990058\n",
      "Epoch 99, Loss: 1111.4723462454326\n",
      "Epoch 100, Loss: 1111.46155875204\n",
      "Final Loss: 1111.46155875204\n"
     ]
    }
   ],
   "source": [
    "input_dim = 64 * 64\n",
    "z_dim = 50\n",
    "learning_rate = 1e-4\n",
    "\n",
    "num_epochs = 100\n",
    "\n",
    "model = ConvVAE(z_dim).to(device)\n",
    "optimizer = optim.Adam(model.parameters(), lr=learning_rate)\n",
    "scheduler = optim.lr_scheduler.StepLR(optimizer, step_size=10, gamma=0.5)\n",
    "\n",
    "train(model, train_loader, input_dim, optimizer, scheduler, num_epochs) "
   ]
  },
  {
   "cell_type": "markdown",
   "id": "9a4e330e",
   "metadata": {},
   "source": [
    "### Generating Images:"
   ]
  },
  {
   "cell_type": "code",
   "execution_count": 24,
   "id": "ed1b6ac7",
   "metadata": {},
   "outputs": [
    {
     "data": {
      "image/png": "[encoded data removed]",
      "text/plain": [
       "<Figure size 1080x180 with 16 Axes>"
      ]
     },
     "metadata": {
      "needs_background": "light"
     },
     "output_type": "display_data"
    }
   ],
   "source": [
    "# Generating images\n",
    "num_images = 10  # Number of images you want to generate\n",
    "generated_images = model.generate(num_images)\n",
    "\n",
    "for i in range(num_images):\n",
    "    img = generated_images[i].cpu().detach().numpy().reshape(64, 64)\n",
    "    plt.imshow(img, cmap='gray')\n",
    "    plt.show()"
   ]
  },
  {
   "cell_type": "code",
   "execution_count": null,
   "id": "8c546870",
   "metadata": {},
   "outputs": [],
   "source": []
  },
  {
   "cell_type": "code",
   "execution_count": null,
   "id": "0064f9cb",
   "metadata": {},
   "outputs": [],
   "source": []
  }
 ],
 "metadata": {
  "kernelspec": {
   "display_name": "Python 3 (ipykernel)",
   "language": "python",
   "name": "python3"
  },
  "language_info": {
   "codemirror_mode": {
    "name": "ipython",
    "version": 3
   },
   "file_extension": ".py",
   "mimetype": "text/x-python",
   "name": "python",
   "nbconvert_exporter": "python",
   "pygments_lexer": "ipython3",
   "version": "3.9.5"
  }
 },
 "nbformat": 4,
 "nbformat_minor": 5
}
