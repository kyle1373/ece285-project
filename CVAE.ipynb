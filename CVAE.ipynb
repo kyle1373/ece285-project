{
 "cells": [
  {
   "cell_type": "code",
   "execution_count": 1,
   "id": "5630c70f",
   "metadata": {},
   "outputs": [],
   "source": [
    "import numpy as np\n",
    "\n",
    "import torch\n",
    "from torch.utils.data import Dataset, DataLoader\n",
    "import torch.nn as nn\n",
    "import torch.optim as optim\n",
    "\n",
    "from preprocess import extract_images\n",
    "from dataset import get_full_list, ChineseCharacterDataset\n",
    "from models import VAE, vae_loss, ConvVAE\n",
    "from utils import visualize_images, show_images"
   ]
  },
  {
   "cell_type": "code",
   "execution_count": 2,
   "id": "f8f76688",
   "metadata": {},
   "outputs": [],
   "source": [
    "%load_ext autoreload\n",
    "%autoreload 2"
   ]
  },
  {
   "cell_type": "markdown",
   "id": "b0b82c0d",
   "metadata": {},
   "source": [
    "### Loading and Preprocessing:"
   ]
  },
  {
   "cell_type": "code",
   "execution_count": 3,
   "id": "93b1ee3b",
   "metadata": {},
   "outputs": [
    {
     "name": "stdout",
     "output_type": "stream",
     "text": [
      "Training Set Size: 2435\n"
     ]
    }
   ],
   "source": [
    "# Set the directory and load the dataset\n",
    "image_dir = './dataset'\n",
    "full_data_list = get_full_list(image_dir)\n",
    "\n",
    "train_size = int(0.01*len(full_data_list))\n",
    "train_data_set = ChineseCharacterDataset(full_data_list[:train_size], cond_type='Half')\n",
    "\n",
    "print(\"Training Set Size:\", len(train_data_set))\n",
    "\n",
    "# Create data loaders\n",
    "train_loader = DataLoader(train_data_set, batch_size=32, shuffle=True)"
   ]
  },
  {
   "cell_type": "markdown",
   "id": "450d5651",
   "metadata": {},
   "source": [
    "### Model:"
   ]
  },
  {
   "cell_type": "code",
   "execution_count": 4,
   "id": "5a65fe14",
   "metadata": {},
   "outputs": [],
   "source": [
    "import torch\n",
    "import torch.nn as nn\n",
    "import torch.nn.functional as F\n",
    "\n",
    "class CVAE(nn.Module):\n",
    "    def __init__(self, input_dim, hidden_dim, z_dim):\n",
    "        super(CVAE, self).__init__()\n",
    "        self.z_dim = z_dim\n",
    "        self.condition_dim = condition_dim\n",
    "\n",
    "        # Encoder\n",
    "        self.encoder = nn.Sequential(\n",
    "            nn.Flatten(),\n",
    "            nn.Linear(2*input_dim, hidden_dim),\n",
    "            nn.ReLU(),\n",
    "        )\n",
    "        \n",
    "        self.fc_mu = nn.Linear(hidden_dim, z_dim)\n",
    "        self.fc_logvar = nn.Linear(hidden_dim, z_dim)\n",
    "        \n",
    "        # Condition encoder\n",
    "        self.condition_encoder = nn.Sequential(\n",
    "            nn.Conv2d(1, 32, 4, stride=2, padding=1),\n",
    "            nn.ReLU(),\n",
    "            nn.Conv2d(32, 64, 4, stride=2, padding=1),\n",
    "            nn.ReLU(),\n",
    "            nn.Conv2d(64, 128, 4, stride=2, padding=1),\n",
    "            nn.ReLU(),\n",
    "            nn.Flatten(),\n",
    "            nn.Linear(128 * 4 * 8, condition_dim) \n",
    "        )\n",
    "        \n",
    "        # Decoder\n",
    "        self.decoder = nn.Sequential(\n",
    "            nn.Linear(z_dim + condition_dim, hidden_dim),\n",
    "            nn.ReLU(),\n",
    "            nn.Linear(hidden_dim, input_dim),\n",
    "            nn.Sigmoid()\n",
    "        )\n",
    "        \n",
    "    def encode(self, x, condition):\n",
    "        # Pad condition to match the height of x\n",
    "        condition_padded = F.pad(condition, (0, 0, 0, 32))  # Padding only height\n",
    "        # Concatenate the condition with the input image\n",
    "        x_cond = torch.cat([x, condition_padded], dim=1)\n",
    "        h1 = self.encoder(x_cond)\n",
    "        return self.fc_mu(h1), self.fc_logvar(h1)   \n",
    "\n",
    "    def reparameterize(self, mu, logvar):\n",
    "        std = torch.exp(0.5 * logvar)\n",
    "        eps = torch.randn_like(std)\n",
    "        return mu + eps * std\n",
    "    \n",
    "    def decode(self, z, condition):\n",
    "        # Encode the condition\n",
    "        cond_encoded = self.condition_encoder(condition)\n",
    "        # Concatenate z with the encoded condition\n",
    "        z_cond = torch.cat([z, cond_encoded], dim=1)\n",
    "        return self.decoder(z_cond)\n",
    "\n",
    "    def forward(self, x, condition):\n",
    "        mu, logvar = self.encode(x, condition)\n",
    "        z = self.reparameterize(mu, logvar)\n",
    "        return self.decode(z, condition), mu, logvar"
   ]
  },
  {
   "cell_type": "markdown",
   "id": "73a40d89",
   "metadata": {},
   "source": [
    "### Training:"
   ]
  },
  {
   "cell_type": "code",
   "execution_count": 5,
   "id": "1a8bb9ee",
   "metadata": {},
   "outputs": [
    {
     "name": "stdout",
     "output_type": "stream",
     "text": [
      "Using device: cuda\n"
     ]
    }
   ],
   "source": [
    "# Use GPU if available\n",
    "device = torch.device('cuda' if torch.cuda.is_available() else 'cpu')\n",
    "print(f'Using device: {device}')"
   ]
  },
  {
   "cell_type": "code",
   "execution_count": 6,
   "id": "c2fbecde",
   "metadata": {},
   "outputs": [],
   "source": [
    "# Train\n",
    "def train(model, train_data_set, input_dim, optimizer, scheduler, num_epochs):\n",
    "    for epoch in range(num_epochs):\n",
    "        model.train()\n",
    "        train_loss = 0\n",
    "        for batch_idx, (data, condition) in enumerate(train_data_set):\n",
    "            data = data.to(device)\n",
    "            condition = condition.to(device)\n",
    "            optimizer.zero_grad()\n",
    "            reconstructed_batch, mu, logvar = model(data, condition)\n",
    "            loss = vae_loss(reconstructed_batch.view(data.shape[0],1,64,64), data, mu, logvar)\n",
    "            loss.backward()\n",
    "            train_loss += loss.item()\n",
    "            optimizer.step()\n",
    "        scheduler.step()\n",
    "        print(f'Epoch {epoch+1}, Loss: {train_loss/len(train_data_set.dataset)}')\n",
    "    print(f'Final Loss: {train_loss/len(train_data_set.dataset)}')"
   ]
  },
  {
   "cell_type": "code",
   "execution_count": 7,
   "id": "4c18358f",
   "metadata": {
    "scrolled": true
   },
   "outputs": [
    {
     "name": "stdout",
     "output_type": "stream",
     "text": [
      "Epoch 1, Loss: 1658.9604941366144\n",
      "Epoch 2, Loss: 1575.341575895149\n",
      "Epoch 3, Loss: 1493.6510450421906\n",
      "Epoch 4, Loss: 1405.8298813085537\n",
      "Epoch 5, Loss: 1348.5200762801592\n",
      "Epoch 6, Loss: 1299.0328835865312\n",
      "Epoch 7, Loss: 1256.6984544444622\n",
      "Epoch 8, Loss: 1223.4311882379363\n",
      "Epoch 9, Loss: 1200.1226626668379\n",
      "Epoch 10, Loss: 1177.1235231246792\n",
      "Epoch 11, Loss: 1151.3139776774256\n",
      "Epoch 12, Loss: 1142.4102008670752\n",
      "Epoch 13, Loss: 1132.1041062748652\n",
      "Epoch 14, Loss: 1124.3608262079697\n",
      "Epoch 15, Loss: 1115.382379563976\n",
      "Epoch 16, Loss: 1109.6756982321613\n",
      "Epoch 17, Loss: 1101.0866817529197\n",
      "Epoch 18, Loss: 1094.3869248909139\n",
      "Epoch 19, Loss: 1088.097910316671\n",
      "Epoch 20, Loss: 1081.5416250240633\n",
      "Epoch 21, Loss: 1069.1804662434226\n",
      "Epoch 22, Loss: 1065.006565227156\n",
      "Epoch 23, Loss: 1061.9261305666068\n",
      "Epoch 24, Loss: 1059.2028105749487\n",
      "Epoch 25, Loss: 1055.9711638339002\n",
      "Epoch 26, Loss: 1052.997678608669\n",
      "Epoch 27, Loss: 1049.7422777367813\n",
      "Epoch 28, Loss: 1047.0148189850167\n",
      "Epoch 29, Loss: 1043.9424608171844\n",
      "Epoch 30, Loss: 1041.241553737006\n",
      "Epoch 31, Loss: 1034.758333166228\n",
      "Epoch 32, Loss: 1032.575974456975\n",
      "Epoch 33, Loss: 1031.065087990888\n",
      "Epoch 34, Loss: 1029.4426371799602\n",
      "Epoch 35, Loss: 1027.5895131825912\n",
      "Epoch 36, Loss: 1026.3361731182624\n",
      "Epoch 37, Loss: 1024.7569149448152\n",
      "Epoch 38, Loss: 1023.4854894242492\n",
      "Epoch 39, Loss: 1022.3212154693916\n",
      "Epoch 40, Loss: 1020.48308210745\n",
      "Epoch 41, Loss: 1017.3785387857739\n",
      "Epoch 42, Loss: 1016.4785477091889\n",
      "Epoch 43, Loss: 1015.0326643111524\n",
      "Epoch 44, Loss: 1014.3168099092018\n",
      "Epoch 45, Loss: 1013.9944981631802\n",
      "Epoch 46, Loss: 1013.1342741353311\n",
      "Epoch 47, Loss: 1012.6810301230429\n",
      "Epoch 48, Loss: 1011.5575123123075\n",
      "Epoch 49, Loss: 1011.1757870652592\n",
      "Epoch 50, Loss: 1010.2796246350423\n",
      "Epoch 51, Loss: 1008.5941843397073\n",
      "Epoch 52, Loss: 1008.396568796522\n",
      "Epoch 53, Loss: 1007.7058705042031\n",
      "Epoch 54, Loss: 1007.0501350543827\n",
      "Epoch 55, Loss: 1006.6858283134947\n",
      "Epoch 56, Loss: 1006.322752803356\n",
      "Epoch 57, Loss: 1006.2270064649641\n",
      "Epoch 58, Loss: 1005.3477821804415\n",
      "Epoch 59, Loss: 1004.6572007948857\n",
      "Epoch 60, Loss: 1004.8028920888411\n",
      "Epoch 61, Loss: 1003.8908140961884\n",
      "Epoch 62, Loss: 1003.4814369906635\n",
      "Epoch 63, Loss: 1003.4774167415297\n",
      "Epoch 64, Loss: 1003.2454576809548\n",
      "Epoch 65, Loss: 1002.6554418794918\n",
      "Epoch 66, Loss: 1003.4526966760781\n",
      "Epoch 67, Loss: 1002.6299528964001\n",
      "Epoch 68, Loss: 1002.0898502671009\n",
      "Epoch 69, Loss: 1002.0533721485177\n",
      "Epoch 70, Loss: 1002.2559275539014\n",
      "Epoch 71, Loss: 1002.1112861147651\n",
      "Epoch 72, Loss: 1001.873581678324\n",
      "Epoch 73, Loss: 1001.29586956173\n",
      "Epoch 74, Loss: 1001.4155460929479\n",
      "Epoch 75, Loss: 1001.207509504941\n",
      "Epoch 76, Loss: 1001.2254604081108\n",
      "Epoch 77, Loss: 1001.1367249663116\n",
      "Epoch 78, Loss: 1001.0108901758214\n",
      "Epoch 79, Loss: 1001.1494081469776\n",
      "Epoch 80, Loss: 1000.8940447734856\n",
      "Epoch 81, Loss: 1000.3529567585344\n",
      "Epoch 82, Loss: 1000.9481943620059\n",
      "Epoch 83, Loss: 1000.4668046955211\n",
      "Epoch 84, Loss: 1000.1707526549666\n",
      "Epoch 85, Loss: 1000.5003237495188\n",
      "Epoch 86, Loss: 1000.2231359086243\n",
      "Epoch 87, Loss: 1000.3014478992877\n",
      "Epoch 88, Loss: 1000.2194411134818\n",
      "Epoch 89, Loss: 999.6745900242236\n",
      "Epoch 90, Loss: 1000.2732823929992\n",
      "Epoch 91, Loss: 999.9373888082328\n",
      "Epoch 92, Loss: 999.4731288902079\n",
      "Epoch 93, Loss: 999.5882180842531\n",
      "Epoch 94, Loss: 999.8800534602798\n",
      "Epoch 95, Loss: 999.9690960079248\n",
      "Epoch 96, Loss: 999.9178240703607\n",
      "Epoch 97, Loss: 999.9821313125642\n",
      "Epoch 98, Loss: 999.7191130526502\n",
      "Epoch 99, Loss: 999.5685958956301\n",
      "Epoch 100, Loss: 999.6028383478247\n",
      "Epoch 101, Loss: 999.8018339121855\n",
      "Epoch 102, Loss: 999.6909000216568\n",
      "Epoch 103, Loss: 999.6119202788116\n",
      "Epoch 104, Loss: 999.5674103848498\n",
      "Epoch 105, Loss: 999.2944620684676\n",
      "Epoch 106, Loss: 999.5767097864797\n",
      "Epoch 107, Loss: 999.6657441125514\n",
      "Epoch 108, Loss: 999.4725431532341\n",
      "Epoch 109, Loss: 999.4697836121984\n",
      "Epoch 110, Loss: 999.490560631096\n",
      "Epoch 111, Loss: 999.3721498211306\n",
      "Epoch 112, Loss: 999.6013421217274\n",
      "Epoch 113, Loss: 999.1237811016106\n",
      "Epoch 114, Loss: 999.2183737126219\n",
      "Epoch 115, Loss: 999.5400063767325\n",
      "Epoch 116, Loss: 999.4669324306982\n",
      "Epoch 117, Loss: 999.539182414656\n",
      "Epoch 118, Loss: 999.4369254924923\n",
      "Epoch 119, Loss: 999.2911292230814\n",
      "Epoch 120, Loss: 999.4015970907661\n",
      "Epoch 121, Loss: 999.4191443347344\n",
      "Epoch 122, Loss: 999.3664976899383\n",
      "Epoch 123, Loss: 999.5425975760395\n",
      "Epoch 124, Loss: 999.5147469961178\n",
      "Epoch 125, Loss: 999.4905571218878\n",
      "Epoch 126, Loss: 999.4382125697831\n",
      "Epoch 127, Loss: 999.0600828574179\n",
      "Epoch 128, Loss: 999.3017349525154\n",
      "Epoch 129, Loss: 999.31022503048\n",
      "Epoch 130, Loss: 999.8462040393994\n",
      "Epoch 131, Loss: 999.6729066069366\n",
      "Epoch 132, Loss: 998.914926968365\n",
      "Epoch 133, Loss: 999.4573862816029\n",
      "Epoch 134, Loss: 999.175650406667\n",
      "Epoch 135, Loss: 999.5316765191864\n",
      "Epoch 136, Loss: 999.6322116232996\n",
      "Epoch 137, Loss: 999.576777764855\n",
      "Epoch 138, Loss: 999.6154235714515\n",
      "Epoch 139, Loss: 999.4205082135524\n",
      "Epoch 140, Loss: 999.56292501524\n",
      "Epoch 141, Loss: 999.3384564096189\n",
      "Epoch 142, Loss: 999.3949269884176\n",
      "Epoch 143, Loss: 999.4257809492108\n",
      "Epoch 144, Loss: 999.2263090349076\n",
      "Epoch 145, Loss: 999.2322349845996\n",
      "Epoch 146, Loss: 999.2289556797035\n",
      "Epoch 147, Loss: 999.2429229297677\n",
      "Epoch 148, Loss: 999.4835406105622\n",
      "Epoch 149, Loss: 999.6171973257829\n",
      "Epoch 150, Loss: 999.3088984495316\n",
      "Epoch 151, Loss: 999.4318867708868\n",
      "Epoch 152, Loss: 999.221482068949\n",
      "Epoch 153, Loss: 999.7388576625065\n",
      "Epoch 154, Loss: 999.4376352549089\n",
      "Epoch 155, Loss: 999.5013713985498\n",
      "Epoch 156, Loss: 999.2844389678517\n",
      "Epoch 157, Loss: 999.3482087998909\n",
      "Epoch 158, Loss: 999.7517467835601\n",
      "Epoch 159, Loss: 999.2596092145791\n",
      "Epoch 160, Loss: 999.0555105597086\n",
      "Epoch 161, Loss: 999.429857245412\n",
      "Epoch 162, Loss: 999.3273472592082\n",
      "Epoch 163, Loss: 999.476347134882\n",
      "Epoch 164, Loss: 999.6242794091696\n",
      "Epoch 165, Loss: 999.7228976835215\n",
      "Epoch 166, Loss: 999.2637522859984\n",
      "Epoch 167, Loss: 999.3197871214065\n",
      "Epoch 168, Loss: 999.7135489524512\n",
      "Epoch 169, Loss: 999.8614811264758\n",
      "Epoch 170, Loss: 999.5356032228568\n",
      "Epoch 171, Loss: 999.3055866593943\n",
      "Epoch 172, Loss: 999.2490684556276\n",
      "Epoch 173, Loss: 999.6605667270919\n",
      "Epoch 174, Loss: 999.5676766836178\n",
      "Epoch 175, Loss: 999.2312860947126\n",
      "Epoch 176, Loss: 999.1955929358637\n",
      "Epoch 177, Loss: 999.2316813318147\n",
      "Epoch 178, Loss: 999.2894134208162\n",
      "Epoch 179, Loss: 999.3355239147523\n",
      "Epoch 180, Loss: 999.3982319606648\n",
      "Epoch 181, Loss: 999.3524965509497\n",
      "Epoch 182, Loss: 999.6420041188078\n",
      "Epoch 183, Loss: 999.2949187668441\n",
      "Epoch 184, Loss: 999.4889951232033\n",
      "Epoch 185, Loss: 999.3135135595803\n",
      "Epoch 186, Loss: 999.1584210969584\n",
      "Epoch 187, Loss: 999.4202919460665\n",
      "Epoch 188, Loss: 999.2448857802875\n",
      "Epoch 189, Loss: 999.4111785324692\n",
      "Epoch 190, Loss: 999.5851624663117\n",
      "Epoch 191, Loss: 999.1298208499102\n",
      "Epoch 192, Loss: 999.6714851771047\n",
      "Epoch 193, Loss: 999.4632941839386\n",
      "Epoch 194, Loss: 998.9572900290362\n",
      "Epoch 195, Loss: 999.2457684965349\n",
      "Epoch 196, Loss: 999.5731495444045\n",
      "Epoch 197, Loss: 999.2223103423383\n",
      "Epoch 198, Loss: 999.1375797091569\n",
      "Epoch 199, Loss: 999.265608356327\n",
      "Epoch 200, Loss: 999.331134597183\n",
      "Final Loss: 999.331134597183\n"
     ]
    }
   ],
   "source": [
    "input_dim = 64 * 64\n",
    "z_dim = 50\n",
    "condition_dim = 50\n",
    "hidden_dim = 6400*4\n",
    "learning_rate = 1e-4\n",
    "\n",
    "num_epochs = 200\n",
    "\n",
    "model = CVAE(input_dim, hidden_dim, z_dim).to(device)\n",
    "optimizer = optim.Adam(model.parameters(), lr=learning_rate)\n",
    "scheduler = optim.lr_scheduler.StepLR(optimizer, step_size=10, gamma=0.5)\n",
    "\n",
    "train(model, train_loader, input_dim, optimizer, scheduler, num_epochs) "
   ]
  },
  {
   "cell_type": "markdown",
   "id": "9a4e330e",
   "metadata": {},
   "source": [
    "### Generating Images:"
   ]
  },
  {
   "cell_type": "code",
   "execution_count": 11,
   "id": "10292d84",
   "metadata": {
    "scrolled": false
   },
   "outputs": [
    {
     "data": {
      "image/png": "[encoded data removed]",
      "text/plain": [
       "<Figure size 576x288 with 2 Axes>"
      ]
     },
     "metadata": {
      "needs_background": "light"
     },
     "output_type": "display_data"
    },
    {
     "data": {
      "image/png": "[encoded data removed]",
      "text/plain": [
       "<Figure size 576x288 with 2 Axes>"
      ]
     },
     "metadata": {
      "needs_background": "light"
     },
     "output_type": "display_data"
    },
    {
     "data": {
      "image/png": "[encoded data removed]",
      "text/plain": [
       "<Figure size 576x288 with 2 Axes>"
      ]
     },
     "metadata": {
      "needs_background": "light"
     },
     "output_type": "display_data"
    },
    {
     "data": {
      "image/png": "[encoded data removed]",
      "text/plain": [
       "<Figure size 576x288 with 2 Axes>"
      ]
     },
     "metadata": {
      "needs_background": "light"
     },
     "output_type": "display_data"
    },
    {
     "data": {
      "image/png": "[encoded data removed]",
      "text/plain": [
       "<Figure size 576x288 with 2 Axes>"
      ]
     },
     "metadata": {
      "needs_background": "light"
     },
     "output_type": "display_data"
    }
   ],
   "source": [
    "import matplotlib.pyplot as plt\n",
    "import torch\n",
    "\n",
    "def plot_generated_images(model, data_loader, num_images, batch_size, device='cpu'):\n",
    "    model.eval()\n",
    "    left_images = num_images\n",
    "    with torch.no_grad():\n",
    "        for batch_idx, (data, condition) in enumerate(data_loader):\n",
    "            condition = condition.to(device)\n",
    "            data = data.to(device)\n",
    "            if left_images == 0:\n",
    "                break\n",
    "            \n",
    "            z = torch.randn(batch_size, model.z_dim).to(device)\n",
    "            sample = model.decode(z, condition).cpu()\n",
    "            sample = sample.view(batch_size, 1, 64, 64)\n",
    "            \n",
    "            if left_images > batch_size:\n",
    "                print_images = batch_size\n",
    "                left_images = left_images-batch_size\n",
    "            else:\n",
    "                print_images = left_images\n",
    "                left_images = 0\n",
    "                \n",
    "\n",
    "            for i in range(print_images):\n",
    "                ref = data[i].cpu().detach().numpy().reshape(64, 64)\n",
    "                img = sample[i].cpu().detach().numpy().reshape(64, 64)\n",
    "\n",
    "                plt.figure(figsize=(8, 4))\n",
    "\n",
    "                # Plot reference image\n",
    "                plt.subplot(1, 2, 1)\n",
    "                plt.title('Reference Image')\n",
    "                plt.imshow(ref, cmap='gray')\n",
    "                plt.axis('off')\n",
    "\n",
    "                # Plot generated image\n",
    "                plt.subplot(1, 2, 2)\n",
    "                plt.title('Generated Image')\n",
    "                plt.imshow(img, cmap='gray')\n",
    "                plt.axis('off')\n",
    "\n",
    "                plt.show()\n",
    "\n",
    "# Example usage:\n",
    "# Assuming `model` is an instance of CVAE and `train_loader` is your DataLoader\n",
    "device = torch.device('cuda' if torch.cuda.is_available() else 'cpu')\n",
    "model.to(device)\n",
    "plot_generated_images(model, train_loader, num_images=5, batch_size=32, device=device)"
   ]
  },
  {
   "cell_type": "code",
   "execution_count": null,
   "id": "4f6ee7ad",
   "metadata": {},
   "outputs": [],
   "source": []
  }
 ],
 "metadata": {
  "kernelspec": {
   "display_name": "Python 3 (ipykernel)",
   "language": "python",
   "name": "python3"
  },
  "language_info": {
   "codemirror_mode": {
    "name": "ipython",
    "version": 3
   },
   "file_extension": ".py",
   "mimetype": "text/x-python",
   "name": "python",
   "nbconvert_exporter": "python",
   "pygments_lexer": "ipython3",
   "version": "3.9.5"
  }
 },
 "nbformat": 4,
 "nbformat_minor": 5
}
